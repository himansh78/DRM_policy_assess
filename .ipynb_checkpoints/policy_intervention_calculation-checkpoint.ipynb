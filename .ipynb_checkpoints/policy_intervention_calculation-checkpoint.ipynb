{
 "cells": [
  {
   "cell_type": "code",
   "execution_count": 26,
   "metadata": {},
   "outputs": [],
   "source": [
    "import geopandas\n",
    "import numpy as np\n",
    "import pandas as pd\n",
    "import xarray as xr\n",
    "from scipy.stats import lognorm,cumfreq\n",
    "from src.calculate_ds import calc_dwi"
   ]
  },
  {
   "cell_type": "markdown",
   "metadata": {},
   "source": [
    "\n",
    "\n",
    "### Load Building data\n"
   ]
  },
  {
   "cell_type": "code",
   "execution_count": 27,
   "metadata": {},
   "outputs": [],
   "source": [
    "df_build_fac = geopandas.read_file('DATA/bld_sc/bldPort_TV0_siteclasses.shp')"
   ]
  },
  {
   "cell_type": "markdown",
   "metadata": {},
   "source": [
    "### Calculating the weighted damage states ($DS_i$) for TV0<sub>pga</sub> as a result of $N_e'$  earthquakes\n",
    "\n",
    "\n"
   ]
  },
  {
   "cell_type": "code",
   "execution_count": 28,
   "metadata": {},
   "outputs": [],
   "source": [
    "DSwi=[]\n",
    "for build in df_build_fac.index.values:\n",
    "    if df_build_fac.iloc[build]['vulnStrEQ']=='BrM+LC+LR':\n",
    "        tb='T1'\n",
    "    elif df_build_fac.iloc[build]['vulnStrEQ']=='BrCfl+LC+LR':\n",
    "        tb='T2' \n",
    "    elif df_build_fac.iloc[build]['vulnStrEQ']=='BrCri+LC+LR':\n",
    "        tb='T3' \n",
    "    dwi=calc_dwi(tb,build)\n",
    "    DSwi.append(dwi)\n",
    "    \n",
    "DSwi=np.array(DSwi)"
   ]
  },
  {
   "cell_type": "markdown",
   "metadata": {},
   "source": [
    "### Calculating the weighted damage states ($DS_i$) and cost after policy intervention as a result of $N_e'$  earthquakes\n"
   ]
  },
  {
   "cell_type": "markdown",
   "metadata": {},
   "source": [
    "##### Calculating cost\n",
    "Cost is calculated as (number of retrofitted buildings, Nb) * (weighting factor, wf)\n",
    "Now for the calculation of wf, following data is obtained from Wang et al. 2023\n",
    "\n",
    "| No. | Description                                  | Construction cost (x200 $\\text{EUR/m}^2$) | Units  |\n",
    "|-----|----------------------------------------------|--------|---------|\n",
    "| T1   | Brick and mud walls                          | 0.60   | 1907    |\n",
    "| T2   | Brick and cement walls with flexible floor slabs | 0.70   | 266     |\n",
    "| T3   | Brick and cement walls                       | 0.75   | 262     |\n",
    "\n",
    "##### Assuming wf for T1 to T1_upgrade (20\\% higher median) is 1, wf for T2 to T2_updade would be (1*(0.7/0.6))= 7/6"
   ]
  },
  {
   "cell_type": "code",
   "execution_count": 29,
   "metadata": {},
   "outputs": [],
   "source": [
    "policies=[1,2,3,4,5] # policies\n",
    "eqs=20 # number of earthquakes\n",
    "ds=4 # damage states\n",
    "DSwi_px=np.zeros((len(policies),len(df_build_fac.index.values),eqs,ds)) # array containing damage states after policy intervention\n",
    "cp=np.zeros(5) ## number of retrofits (or cp)\n",
    "wf=1.17*1.53 #weigting factor for cost of upgrade from T2 to T2_upgrade\n",
    "\n",
    "for ip,p in enumerate(policies):\n",
    "    nb=0 ## initialise the variable to store number of retrofits\n",
    "    for build in df_build_fac.index.values:\n",
    "        if p==1:\n",
    "            if df_build_fac.iloc[build]['vulnStrEQ']=='BrM+LC+LR':\n",
    "                tb='T1_upg'\n",
    "                nb+=1\n",
    "            elif df_build_fac.iloc[build]['vulnStrEQ']=='BrCfl+LC+LR':\n",
    "                tb='T2' \n",
    "            elif df_build_fac.iloc[build]['vulnStrEQ']=='BrCri+LC+LR':\n",
    "                tb='T3' \n",
    "            \n",
    "        elif p==3:\n",
    "            if df_build_fac.iloc[build]['vulnStrEQ']=='BrM+LC+LR':\n",
    "                if df_build_fac.iloc[build]['cluster']==2:\n",
    "                    tb='T1_upg'\n",
    "                    nb+=1\n",
    "                else:\n",
    "                    tb='T1'\n",
    "            elif df_build_fac.iloc[build]['vulnStrEQ']=='BrCfl+LC+LR':\n",
    "                tb='T2' \n",
    "            elif df_build_fac.iloc[build]['vulnStrEQ']=='BrCri+LC+LR':\n",
    "                tb='T3' \n",
    "\n",
    "        elif p==2:\n",
    "            if df_build_fac.iloc[build]['vulnStrEQ']=='BrM+LC+LR':\n",
    "                if df_build_fac.iloc[build]['polytype']=='lowIncome':\n",
    "                    tb='T1_upg'\n",
    "                    nb+=1\n",
    "                else:\n",
    "                    tb='T1'\n",
    "            elif df_build_fac.iloc[build]['vulnStrEQ']=='BrCfl+LC+LR':\n",
    "                tb='T2' \n",
    "            elif df_build_fac.iloc[build]['vulnStrEQ']=='BrCri+LC+LR':\n",
    "                tb='T3' \n",
    "\n",
    "        elif p==4:\n",
    "            if df_build_fac.iloc[build]['vulnStrEQ']=='BrM+LC+LR':\n",
    "                if df_build_fac.iloc[build]['cluster']==2:\n",
    "                    tb='T1_upg'\n",
    "                    nb+=1\n",
    "                else:\n",
    "                    tb='T1'\n",
    "            elif df_build_fac.iloc[build]['vulnStrEQ']=='BrCfl+LC+LR':\n",
    "\n",
    "                if df_build_fac.iloc[build]['cluster']==2:\n",
    "                    tb='T2_upg'\n",
    "                    nb+=1*wf\n",
    "                else:\n",
    "                    tb='T2'\n",
    "            elif df_build_fac.iloc[build]['vulnStrEQ']=='BrCri+LC+LR':\n",
    "                tb='T3' \n",
    "\n",
    "        else:\n",
    "            if df_build_fac.iloc[build]['vulnStrEQ']=='BrM+LC+LR':\n",
    "                if df_build_fac.iloc[build]['cluster'] in [2,1]:\n",
    "                    tb='T1_upg'\n",
    "                    nb+=1\n",
    "                else:\n",
    "                    tb='T1'                   \n",
    "            elif df_build_fac.iloc[build]['vulnStrEQ']=='BrCfl+LC+LR':\n",
    "                tb='T2'               \n",
    "            elif df_build_fac.iloc[build]['vulnStrEQ']=='BrCri+LC+LR':\n",
    "                tb='T3'\n",
    "                \n",
    "        dwi=calc_dwi(tb,build)\n",
    "        DSwi_px[ip,build]=np.array(dwi)      \n",
    "    cp[ip]=nb"
   ]
  },
  {
   "cell_type": "markdown",
   "metadata": {},
   "source": [
    "### Calculating $D_i, D_{low}$ and reference values for Cost-Benefit Analysis (CBA)"
   ]
  },
  {
   "cell_type": "code",
   "execution_count": 5,
   "metadata": {},
   "outputs": [],
   "source": [
    "DSwi_nop=np.sum(DSwi,axis=2) # Di\n",
    "di_eq_nop=np.mean(DSwi_nop,axis=1)/np.max(np.mean(DSwi_nop,axis=1))\n",
    "sort_di = np.sort(di_eq_nop)\n",
    "ecdf_di = np.arange(1, len(sort_di) + 1) / len(sort_di)\n",
    "area_ecdf_nop=np.trapz(y=sort_di,x=ecdf_di) # reference value for delta_all calculation\n",
    "\n",
    "sort_di_li=np.sort(di_eq_nop[df_build_fac['polytype']=='lowIncome']) #sorted(Dlow)\n",
    "ecdf_di_li = np.arange(1, len(sort_di_li) + 1) / len(sort_di_li)\n",
    "area_ecdf_li_nop=np.trapz(y=sort_di_li,x=ecdf_di_li)  # reference value for delta_low calculation"
   ]
  },
  {
   "cell_type": "markdown",
   "metadata": {},
   "source": [
    "### Calculating $D_i, D_{low} \\Delta_{all}, \\Delta_{low}, BCR_{all}$ and $BCR_{low}$ for policy interventions"
   ]
  },
  {
   "cell_type": "code",
   "execution_count": 30,
   "metadata": {},
   "outputs": [],
   "source": [
    "#initialise CBA arrays\n",
    "benefit1=np.zeros(5)\n",
    "benefit2=np.zeros(5)\n",
    "costbenefit1=np.zeros(5)\n",
    "costbenefit2=np.zeros(5)"
   ]
  },
  {
   "cell_type": "code",
   "execution_count": 31,
   "metadata": {},
   "outputs": [
    {
     "name": "stdout",
     "output_type": "stream",
     "text": [
      "For Policy No. 1, Benefit 1 is 0.11196514629798365 and Benefit 2 is 0.1329594417464391\n",
      "BCR1 is 5.86204954439705e-05 and BCR2 is 6.961227316567492e-05\n"
     ]
    }
   ],
   "source": [
    "####change policy number\n",
    "p=1\n",
    "\n",
    "####for entire tv0\n",
    "di=np.mean(np.sum(DSwi_px[p-1],axis=2),axis=1)/np.max(np.mean(DSwi_nop,axis=1))\n",
    "sort_di = np.sort(di)\n",
    "ecdf_di = np.arange(1, len(sort_di) + 1) / len(sort_di)\n",
    "area_ecdf_p=np.trapz(sort_di,ecdf_di)\n",
    "\n",
    "#########for low income\n",
    "sort_di_li=np.sort(di[df_build_fac['polytype']=='lowIncome'])\n",
    "ecdf_di_li = np.arange(1, len(sort_di_li) + 1) / len(sort_di_li)\n",
    "area_ecdf_li_p=np.trapz(y=sort_di_li,x=ecdf_di_li)\n",
    "\n",
    "########benefit calculation\n",
    "benefit1[p-1]=area_ecdf_nop-area_ecdf_p\n",
    "benefit2[p-1]=area_ecdf_li_nop-area_ecdf_li_p\n",
    "print(f'For Policy No. {p}, Benefit 1 is {benefit1[p-1]} and Benefit 2 is {benefit2[p-1]}')\n",
    "\n",
    "######### BCR (Benefit-Cost ratio) calculation\n",
    "costbenefit1[p-1]=benefit1[p-1]/cp[p-1]\n",
    "costbenefit2[p-1]=benefit2[p-1]/cp[p-1]\n",
    "print(f'BCR1 is {costbenefit1[p-1]} and BCR2 is {costbenefit2[p-1]}')"
   ]
  },
  {
   "cell_type": "markdown",
   "metadata": {},
   "source": [
    "### Save the output arrays for plotting  (Only run if you want to re-store any missing output files -or- update analysis results)\n",
    "These saved arrays are input files for `Plotting_policy_intervention_results.ipynb`\n"
   ]
  },
  {
   "cell_type": "code",
   "execution_count": 32,
   "metadata": {},
   "outputs": [
    {
     "name": "stdout",
     "output_type": "stream",
     "text": [
      "For Policy No. 1, Benefit 1 is 0.11196514629798365 and Benefit 2 is 0.1329594417464391\n",
      "BCR1 is 5.86204954439705e-05 and BCR2 is 6.961227316567492e-05\n",
      "For Policy No. 2, Benefit 1 is 0.11134266976315355 and Benefit 2 is 0.1329594417464391\n",
      "BCR1 is 6.52653398377219e-05 and BCR2 is 7.793636679158211e-05\n",
      "For Policy No. 3, Benefit 1 is 0.08954048972293044 and Benefit 2 is 0.10692444821547992\n",
      "BCR1 is 8.487250210704307e-05 and BCR2 is 0.00010135018788197148\n",
      "For Policy No. 4, Benefit 1 is 0.09638228595795112 and Benefit 2 is 0.11509455415856806\n",
      "BCR1 is 7.720893048377167e-05 and BCR2 is 9.219876186549911e-05\n",
      "For Policy No. 5, Benefit 1 is 0.1101249376999765 and Benefit 2 is 0.13150529145831358\n",
      "BCR1 is 7.766215634695099e-05 and BCR2 is 9.273997987187135e-05\n"
     ]
    }
   ],
   "source": [
    "####change policy number\n",
    "for p in [1,2,3,4,5]:\n",
    "    ####for entire tv0\n",
    "    di=np.mean(np.sum(DSwi_px[p-1],axis=2),axis=1)/np.max(np.mean(DSwi_nop,axis=1))\n",
    "    sort_di = np.sort(di)\n",
    "    ecdf_di = np.arange(1, len(sort_di) + 1) / len(sort_di)\n",
    "    area_ecdf_p=np.trapz(sort_di,ecdf_di)\n",
    "\n",
    "    #########for low income\n",
    "    sort_di_li=np.sort(di[df_build_fac['polytype']=='lowIncome'])\n",
    "    ecdf_di_li = np.arange(1, len(sort_di_li) + 1) / len(sort_di_li)\n",
    "    area_ecdf_li_p=np.trapz(y=sort_di_li,x=ecdf_di_li)\n",
    "\n",
    "    ########benefit calculation\n",
    "    benefit1[p-1]=area_ecdf_nop-area_ecdf_p\n",
    "    benefit2[p-1]=area_ecdf_li_nop-area_ecdf_li_p\n",
    "    print(f'For Policy No. {p}, Benefit 1 is {benefit1[p-1]} and Benefit 2 is {benefit2[p-1]}')\n",
    "\n",
    "    ######### BCR (Benefit-Cost ratio) calculation\n",
    "    costbenefit1[p-1]=benefit1[p-1]/cp[p-1]\n",
    "    costbenefit2[p-1]=benefit2[p-1]/cp[p-1]\n",
    "    print(f'BCR1 is {costbenefit1[p-1]} and BCR2 is {costbenefit2[p-1]}')\n",
    "    np.save(f'output_files/Di_policy{p}',di)"
   ]
  },
  {
   "cell_type": "code",
   "execution_count": 33,
   "metadata": {},
   "outputs": [],
   "source": [
    "np.save(f'output_files/Di_nop',di_eq_nop)\n",
    "np.save(f'output_files/delta_all',benefit1)\n",
    "np.save(f'output_files/delta_low',benefit2)\n",
    "np.save(f'output_files/bcr_all',costbenefit1)\n",
    "np.save(f'output_files/bcr_low',costbenefit2)"
   ]
  }
 ],
 "metadata": {
  "kernelspec": {
   "display_name": "Python 3",
   "language": "python",
   "name": "python3"
  },
  "language_info": {
   "codemirror_mode": {
    "name": "ipython",
    "version": 3
   },
   "file_extension": ".py",
   "mimetype": "text/x-python",
   "name": "python",
   "nbconvert_exporter": "python",
   "pygments_lexer": "ipython3",
   "version": "3.8.5"
  }
 },
 "nbformat": 4,
 "nbformat_minor": 4
}
